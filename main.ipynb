{
  "cells": [
    {
      "cell_type": "code",
      "execution_count": null,
      "id": "4142346a",
      "metadata": {
        "id": "4142346a"
      },
      "outputs": [],
      "source": [
        "import torch\n",
        "from torch import nn\n",
        "from torch import optim\n",
        "from torchvision import datasets, transforms\n",
        "from torch.utils.data import random_split, DataLoader\n",
        "import os\n",
        "import matplotlib.pyplot as plt\n",
        "import numpy as np\n",
        "from tqdm import tqdm\n",
        "from network import Net #Upload the network.py to the directory if you want this to work or just open the 3rd cell.\n",
        "\n",
        "if not os.path.exists('./outputs'):\n",
        "    os.mkdir('./outputs')"
      ]
    },
    {
      "cell_type": "code",
      "source": [
        "device = torch.device('cuda:0' if torch.cuda.is_available() else 'cpu') # I used this command to easily move between GPU and CPU\n",
        "print(device)\n",
        "\n",
        "BATCH_SIZE = 16 # Number of images that are used for calculating gradients at each step\n",
        "\n",
        "NUM_EPOCHS = 25 # Number of times we will go through all the training images. Do not go over 25\n",
        "\n",
        "#I tested it over 25 epochs as well just to be sure its consistent. It reaches above 90% before 25 epochs.\n",
        "\n",
        "LEARNING_RATE = 1e-3 # Controls the step size\n",
        "MOMENTUM = 0.9 # Momentum for the gradient descent\n",
        "WEIGHT_DECAY = 0.0001 # Regularization factor to reduce overfitting"
      ],
      "metadata": {
        "colab": {
          "base_uri": "https://localhost:8080/"
        },
        "id": "beKBSn_a4jJh",
        "outputId": "7ca8f19f-044c-4491-acb7-a5478edabb6e"
      },
      "id": "beKBSn_a4jJh",
      "execution_count": null,
      "outputs": [
        {
          "output_type": "stream",
          "name": "stdout",
          "text": [
            "cuda:0\n"
          ]
        }
      ]
    },
    {
      "cell_type": "code",
      "source": [
        "#New CNN. I loaded it here in order to modify the network easily. You can skip this line since it calls from the .py\n",
        "\"\"\"\n",
        "class Net(nn.Module):\n",
        "\n",
        "    def __init__(self, n_classes=10):\n",
        "        super().__init__()\n",
        "        \n",
        "        # Cheatsheet:\n",
        "        # Convolutions (Conv2d) need to match the input's number of channels, and can change the number of output channels\n",
        "        # It's recommended that you stick to 3x3 convolutions with padding=1, which keeps the spatial size of the tensors unchanged\n",
        "        # Batch normalization (BatchNorm2d) should match the input's number of channels, and do not affect the size\n",
        "        # BatchNorm2d is used right after Conv2d\n",
        "        # ReLU activation can be applied to tensors of any size and does not affect its shape\n",
        "        # Max pooling (MaxPool2d) divides the spatial dimensions of the image. \n",
        "        # Stick to MaxPool2d(2, 2) in this exercise, which divides the size of the output by 2 in each axis.\n",
        "\n",
        "        # Note: Tensors (arrays) here are of shape [B, C, M, N], where:\n",
        "        # B is the number of samples in a batch\n",
        "        # C is the number of \"color\" or feature channels\n",
        "        # M is the first spatial dimension\n",
        "        # N is the second spatial dimension\n",
        "\n",
        "        # Tip: try to keep track of the shape that the tensor will have after each operation. This is necessary for properly \n",
        "        # connecting the convolutional layers to the fully connected layers.\n",
        "\n",
        "        # Input is [B, 3, 64, 64]\n",
        "        self.convolutions = nn.Sequential( \n",
        "            nn.Conv2d(3, 32, kernel_size = 3, padding = 1), #[B, 32, 64, 64]\n",
        "            nn.ReLU(),  #[B, 32, 64, 64]\n",
        "            nn.Conv2d(32,64, kernel_size = 3, stride = 1, padding = 1),  #[B, 64, 64, 64]\n",
        "            nn.ReLU(),  #[B, 64, 64, 64]\n",
        "            nn.MaxPool2d(2,2),  #[B, 64, 32, 32]\n",
        "        \n",
        "            nn.Conv2d(64, 128, kernel_size = 3, stride = 1, padding = 1), #[B, 128, 32, 32]\n",
        "            nn.ReLU(), #[B, 64, 32, 32]\n",
        "            nn.Conv2d(128 ,128, kernel_size = 3, stride = 1, padding = 1), #[B, 128, 32, 32]\n",
        "            nn.ReLU(), #[B, 128, 32, 32]\n",
        "            nn.MaxPool2d(2,2), #[B, 128, 16, 16]\n",
        "            nn.Dropout(0.2), #To Prevent Overfitting\n",
        "\n",
        "            nn.Conv2d(128, 256, kernel_size = 3, stride = 1, padding = 1), #[B, 128256, 16, 16]\n",
        "            nn.ReLU(), #[B, 256, 16, 16]\n",
        "            nn.Conv2d(256,256, kernel_size = 3, stride = 1, padding = 1), #[B, 256, 16, 16]\n",
        "            nn.ReLU(), #[B, 256, 16, 16]\n",
        "            nn.MaxPool2d(2,2), #[B, 256, 8, 8]\n",
        "            nn.Dropout(0.15) #To Prevent Overfitting\n",
        "        )\n",
        "\n",
        "        # Input will be reshaped from [B, 256, 8, 8] to [B, 256*8*8] for fully connected layers\n",
        "        self.fully_connected = nn.Sequential(\n",
        "            nn.Linear(256*8*8, 16), # [B, 16]\n",
        "            nn.ReLU(inplace=True), # [B, 16]\n",
        "            nn.Linear(16, n_classes), # [B, n_classes]\n",
        "        )\n",
        "\n",
        "        # Note: the final output must have shape [B, n_classes]\n",
        "\n",
        "        # We're skipping a softmax activation here since we'll be using a loss function that does it automatically\n",
        "\n",
        "\n",
        "\n",
        "    def forward(self, img):\n",
        "\n",
        "        # Apply convolution operations\n",
        "        x = self.convolutions(img)\n",
        "\n",
        "        # Reshape\n",
        "        x = x.view(x.size(0), -1)\n",
        "\n",
        "        # Apply fully connected operations\n",
        "        x = self.fully_connected(x)\n",
        "\n",
        "        return x\n",
        "\"\"\""
      ],
      "metadata": {
        "id": "oXGjzduZCM-p"
      },
      "id": "oXGjzduZCM-p",
      "execution_count": null,
      "outputs": []
    },
    {
      "cell_type": "code",
      "execution_count": null,
      "id": "7430b7d9",
      "metadata": {
        "id": "7430b7d9"
      },
      "outputs": [],
      "source": [
        "model = Net()"
      ]
    },
    {
      "cell_type": "code",
      "source": [
        "criterion = torch.nn.CrossEntropyLoss()\n",
        "optimizer = torch.optim.SGD(model.parameters(), lr=LEARNING_RATE, momentum=MOMENTUM)\n",
        "scheduler = torch.optim.lr_scheduler.StepLR(optimizer,step_size=WEIGHT_DECAY)"
      ],
      "metadata": {
        "id": "SysNMeM04deP"
      },
      "id": "SysNMeM04deP",
      "execution_count": null,
      "outputs": []
    },
    {
      "cell_type": "code",
      "execution_count": null,
      "id": "8741cedd",
      "metadata": {
        "id": "8741cedd",
        "colab": {
          "base_uri": "https://localhost:8080/",
          "height": 83,
          "referenced_widgets": [
            "7cc3c353544f4fe7949ee9bb6a9f4757",
            "d53fee16086847499ef41e786d9094e4",
            "fa10a69900cd472fb29c3835ea61e21a",
            "c824913313e248eda260f81463fa6267",
            "3db39cabe0f74469a2c22d22c99d991e",
            "dd49b80df0ba425b8b91e65af074c8e1",
            "186bcafe60bb4162a51214311ea8710b",
            "367557f1d4624833913420c5f4750aea",
            "4965e2d998f74d74b73740572694ad0c",
            "07784ee5678e443c9885b241b6db8f20",
            "13e82adf637243e1b37cf5116b71a344"
          ]
        },
        "outputId": "843e3992-c815-4924-fff9-91228763b83e"
      },
      "outputs": [
        {
          "output_type": "stream",
          "name": "stdout",
          "text": [
            "Downloading https://madm.dfki.de/files/sentinel/EuroSAT.zip to data/eurosat/EuroSAT.zip\n"
          ]
        },
        {
          "output_type": "display_data",
          "data": {
            "text/plain": [
              "  0%|          | 0/94280567 [00:00<?, ?it/s]"
            ],
            "application/vnd.jupyter.widget-view+json": {
              "version_major": 2,
              "version_minor": 0,
              "model_id": "7cc3c353544f4fe7949ee9bb6a9f4757"
            }
          },
          "metadata": {}
        },
        {
          "output_type": "stream",
          "name": "stdout",
          "text": [
            "Extracting data/eurosat/EuroSAT.zip to data/eurosat\n"
          ]
        }
      ],
      "source": [
        "transformss = transforms.Compose([\n",
        "        transforms.RandomHorizontalFlip(), #Basic augmentation to prevent overfitting.\n",
        "        transforms.ToTensor()])\n",
        "train_data = datasets.EuroSAT('data', download=True, transform=transformss)\n",
        "train, test = random_split(train_data,[21600,5400]) #80-20 Train-Test Split\n",
        "train_loader = DataLoader(train, batch_size=BATCH_SIZE)\n",
        "test_loader = DataLoader(test, batch_size=BATCH_SIZE)"
      ]
    },
    {
      "cell_type": "code",
      "execution_count": null,
      "id": "52fb7417",
      "metadata": {
        "colab": {
          "base_uri": "https://localhost:8080/"
        },
        "id": "52fb7417",
        "outputId": "d433824a-6c85-40d0-f47b-56eb8e90b586"
      },
      "outputs": [
        {
          "output_type": "stream",
          "name": "stdout",
          "text": [
            "\n",
            "\n",
            "Running epoch 1 of 40...\n",
            "\n"
          ]
        },
        {
          "output_type": "stream",
          "name": "stderr",
          "text": [
            "1350it [00:32, 42.03it/s]\n"
          ]
        },
        {
          "output_type": "stream",
          "name": "stdout",
          "text": [
            "Train Loss: 0.1406, Train Accuracy: 16.30%\n",
            "Test  Loss: 0.1326, Test  Accuracy: 25.57%\n",
            "\n",
            "\n",
            "Running epoch 2 of 40...\n",
            "\n"
          ]
        },
        {
          "output_type": "stream",
          "name": "stderr",
          "text": [
            "1350it [00:24, 55.21it/s]\n"
          ]
        },
        {
          "output_type": "stream",
          "name": "stdout",
          "text": [
            "Train Loss: 0.1121, Train Accuracy: 29.18%\n",
            "Test  Loss: 0.1052, Test  Accuracy: 32.57%\n",
            "\n",
            "\n",
            "Running epoch 3 of 40...\n",
            "\n"
          ]
        },
        {
          "output_type": "stream",
          "name": "stderr",
          "text": [
            "1350it [00:25, 53.82it/s]\n"
          ]
        },
        {
          "output_type": "stream",
          "name": "stdout",
          "text": [
            "Train Loss: 0.0974, Train Accuracy: 38.05%\n",
            "Test  Loss: 0.1080, Test  Accuracy: 39.37%\n",
            "\n",
            "\n",
            "Running epoch 4 of 40...\n",
            "\n"
          ]
        },
        {
          "output_type": "stream",
          "name": "stderr",
          "text": [
            "1350it [00:24, 54.38it/s]\n"
          ]
        },
        {
          "output_type": "stream",
          "name": "stdout",
          "text": [
            "Train Loss: 0.0746, Train Accuracy: 54.53%\n",
            "Test  Loss: 0.0791, Test  Accuracy: 66.76%\n",
            "\n",
            "\n",
            "Running epoch 5 of 40...\n",
            "\n"
          ]
        },
        {
          "output_type": "stream",
          "name": "stderr",
          "text": [
            "1350it [00:24, 55.41it/s]\n"
          ]
        },
        {
          "output_type": "stream",
          "name": "stdout",
          "text": [
            "Train Loss: 0.0593, Train Accuracy: 65.80%\n",
            "Test  Loss: 0.0646, Test  Accuracy: 71.31%\n",
            "\n",
            "\n",
            "Running epoch 6 of 40...\n",
            "\n"
          ]
        },
        {
          "output_type": "stream",
          "name": "stderr",
          "text": [
            "1350it [00:24, 55.38it/s]\n"
          ]
        },
        {
          "output_type": "stream",
          "name": "stdout",
          "text": [
            "Train Loss: 0.0508, Train Accuracy: 70.77%\n",
            "Test  Loss: 0.0724, Test  Accuracy: 70.56%\n",
            "\n",
            "\n",
            "Running epoch 7 of 40...\n",
            "\n"
          ]
        },
        {
          "output_type": "stream",
          "name": "stderr",
          "text": [
            "1350it [00:24, 55.52it/s]\n"
          ]
        },
        {
          "output_type": "stream",
          "name": "stdout",
          "text": [
            "Train Loss: 0.0458, Train Accuracy: 73.85%\n",
            "Test  Loss: 0.0735, Test  Accuracy: 71.96%\n",
            "\n",
            "\n",
            "Running epoch 8 of 40...\n",
            "\n"
          ]
        },
        {
          "output_type": "stream",
          "name": "stderr",
          "text": [
            "1350it [00:24, 54.81it/s]\n"
          ]
        },
        {
          "output_type": "stream",
          "name": "stdout",
          "text": [
            "Train Loss: 0.0410, Train Accuracy: 76.51%\n",
            "Test  Loss: 0.0651, Test  Accuracy: 75.30%\n",
            "\n",
            "\n",
            "Running epoch 9 of 40...\n",
            "\n"
          ]
        },
        {
          "output_type": "stream",
          "name": "stderr",
          "text": [
            "1350it [00:24, 55.32it/s]\n"
          ]
        },
        {
          "output_type": "stream",
          "name": "stdout",
          "text": [
            "Train Loss: 0.0374, Train Accuracy: 78.61%\n",
            "Test  Loss: 0.0561, Test  Accuracy: 78.39%\n",
            "\n",
            "\n",
            "Running epoch 10 of 40...\n",
            "\n"
          ]
        },
        {
          "output_type": "stream",
          "name": "stderr",
          "text": [
            "1350it [00:24, 55.26it/s]\n"
          ]
        },
        {
          "output_type": "stream",
          "name": "stdout",
          "text": [
            "Train Loss: 0.0342, Train Accuracy: 80.51%\n",
            "Test  Loss: 0.0562, Test  Accuracy: 79.11%\n",
            "\n",
            "\n",
            "Running epoch 11 of 40...\n",
            "\n"
          ]
        },
        {
          "output_type": "stream",
          "name": "stderr",
          "text": [
            "1350it [00:24, 55.25it/s]\n"
          ]
        },
        {
          "output_type": "stream",
          "name": "stdout",
          "text": [
            "Train Loss: 0.0315, Train Accuracy: 82.00%\n",
            "Test  Loss: 0.0479, Test  Accuracy: 82.59%\n",
            "\n",
            "\n",
            "Running epoch 12 of 40...\n",
            "\n"
          ]
        },
        {
          "output_type": "stream",
          "name": "stderr",
          "text": [
            "1350it [00:24, 54.35it/s]\n"
          ]
        },
        {
          "output_type": "stream",
          "name": "stdout",
          "text": [
            "Train Loss: 0.0287, Train Accuracy: 83.45%\n",
            "Test  Loss: 0.0457, Test  Accuracy: 83.15%\n",
            "\n",
            "\n",
            "Running epoch 13 of 40...\n",
            "\n"
          ]
        },
        {
          "output_type": "stream",
          "name": "stderr",
          "text": [
            "1350it [00:24, 55.11it/s]\n"
          ]
        },
        {
          "output_type": "stream",
          "name": "stdout",
          "text": [
            "Train Loss: 0.0266, Train Accuracy: 84.75%\n",
            "Test  Loss: 0.0493, Test  Accuracy: 83.13%\n",
            "\n",
            "\n",
            "Running epoch 14 of 40...\n",
            "\n"
          ]
        },
        {
          "output_type": "stream",
          "name": "stderr",
          "text": [
            "1350it [00:24, 55.18it/s]\n"
          ]
        },
        {
          "output_type": "stream",
          "name": "stdout",
          "text": [
            "Train Loss: 0.0244, Train Accuracy: 85.88%\n",
            "Test  Loss: 0.0439, Test  Accuracy: 85.76%\n",
            "\n",
            "\n",
            "Running epoch 15 of 40...\n",
            "\n"
          ]
        },
        {
          "output_type": "stream",
          "name": "stderr",
          "text": [
            "1350it [00:24, 55.11it/s]\n"
          ]
        },
        {
          "output_type": "stream",
          "name": "stdout",
          "text": [
            "Train Loss: 0.0222, Train Accuracy: 87.51%\n",
            "Test  Loss: 0.0443, Test  Accuracy: 86.81%\n",
            "\n",
            "\n",
            "Running epoch 16 of 40...\n",
            "\n"
          ]
        },
        {
          "output_type": "stream",
          "name": "stderr",
          "text": [
            "1350it [00:24, 54.64it/s]\n"
          ]
        },
        {
          "output_type": "stream",
          "name": "stdout",
          "text": [
            "Train Loss: 0.0202, Train Accuracy: 88.70%\n",
            "Test  Loss: 0.0443, Test  Accuracy: 87.06%\n",
            "\n",
            "\n",
            "Running epoch 17 of 40...\n",
            "\n"
          ]
        },
        {
          "output_type": "stream",
          "name": "stderr",
          "text": [
            "1350it [00:24, 55.23it/s]\n"
          ]
        },
        {
          "output_type": "stream",
          "name": "stdout",
          "text": [
            "Train Loss: 0.0185, Train Accuracy: 89.50%\n",
            "Test  Loss: 0.0410, Test  Accuracy: 86.61%\n",
            "\n",
            "\n",
            "Running epoch 18 of 40...\n",
            "\n"
          ]
        },
        {
          "output_type": "stream",
          "name": "stderr",
          "text": [
            "1350it [00:24, 55.38it/s]\n"
          ]
        },
        {
          "output_type": "stream",
          "name": "stdout",
          "text": [
            "Train Loss: 0.0172, Train Accuracy: 90.28%\n",
            "Test  Loss: 0.0391, Test  Accuracy: 88.28%\n",
            "\n",
            "\n",
            "Running epoch 19 of 40...\n",
            "\n"
          ]
        },
        {
          "output_type": "stream",
          "name": "stderr",
          "text": [
            "1350it [00:24, 55.20it/s]\n"
          ]
        },
        {
          "output_type": "stream",
          "name": "stdout",
          "text": [
            "Train Loss: 0.0155, Train Accuracy: 91.34%\n",
            "Test  Loss: 0.0492, Test  Accuracy: 89.09%\n",
            "\n",
            "\n",
            "Running epoch 20 of 40...\n",
            "\n"
          ]
        },
        {
          "output_type": "stream",
          "name": "stderr",
          "text": [
            "1350it [00:24, 55.24it/s]\n"
          ]
        },
        {
          "output_type": "stream",
          "name": "stdout",
          "text": [
            "Train Loss: 0.0142, Train Accuracy: 92.07%\n",
            "Test  Loss: 0.0372, Test  Accuracy: 89.33%\n",
            "\n",
            "\n",
            "Running epoch 21 of 40...\n",
            "\n"
          ]
        },
        {
          "output_type": "stream",
          "name": "stderr",
          "text": [
            "1350it [00:24, 54.58it/s]\n"
          ]
        },
        {
          "output_type": "stream",
          "name": "stdout",
          "text": [
            "Train Loss: 0.0129, Train Accuracy: 92.88%\n",
            "Test  Loss: 0.0232, Test  Accuracy: 90.65%\n",
            "\n",
            "\n",
            "Running epoch 22 of 40...\n",
            "\n"
          ]
        },
        {
          "output_type": "stream",
          "name": "stderr",
          "text": [
            "1350it [00:24, 55.38it/s]\n"
          ]
        },
        {
          "output_type": "stream",
          "name": "stdout",
          "text": [
            "Train Loss: 0.0122, Train Accuracy: 93.26%\n",
            "Test  Loss: 0.0302, Test  Accuracy: 90.56%\n",
            "\n",
            "\n",
            "Running epoch 23 of 40...\n",
            "\n"
          ]
        },
        {
          "output_type": "stream",
          "name": "stderr",
          "text": [
            "1350it [00:24, 55.38it/s]\n"
          ]
        },
        {
          "output_type": "stream",
          "name": "stdout",
          "text": [
            "Train Loss: 0.0113, Train Accuracy: 93.69%\n",
            "Test  Loss: 0.0252, Test  Accuracy: 90.72%\n",
            "\n",
            "\n",
            "Running epoch 24 of 40...\n",
            "\n"
          ]
        },
        {
          "output_type": "stream",
          "name": "stderr",
          "text": [
            "1350it [00:24, 55.17it/s]\n"
          ]
        },
        {
          "output_type": "stream",
          "name": "stdout",
          "text": [
            "Train Loss: 0.0104, Train Accuracy: 94.33%\n",
            "Test  Loss: 0.0216, Test  Accuracy: 92.15%\n",
            "\n",
            "\n",
            "Running epoch 25 of 40...\n",
            "\n"
          ]
        },
        {
          "output_type": "stream",
          "name": "stderr",
          "text": [
            "1350it [00:24, 54.47it/s]\n"
          ]
        },
        {
          "output_type": "stream",
          "name": "stdout",
          "text": [
            "Train Loss: 0.0099, Train Accuracy: 94.56%\n",
            "Test  Loss: 0.0227, Test  Accuracy: 90.80%\n",
            "\n",
            "\n",
            "Running epoch 26 of 40...\n",
            "\n"
          ]
        },
        {
          "output_type": "stream",
          "name": "stderr",
          "text": [
            "1350it [00:24, 55.52it/s]\n"
          ]
        },
        {
          "output_type": "stream",
          "name": "stdout",
          "text": [
            "Train Loss: 0.0089, Train Accuracy: 94.96%\n",
            "Test  Loss: 0.0120, Test  Accuracy: 92.54%\n",
            "\n",
            "\n",
            "Running epoch 27 of 40...\n",
            "\n"
          ]
        },
        {
          "output_type": "stream",
          "name": "stderr",
          "text": [
            "1350it [00:24, 55.32it/s]\n"
          ]
        },
        {
          "output_type": "stream",
          "name": "stdout",
          "text": [
            "Train Loss: 0.0086, Train Accuracy: 95.31%\n",
            "Test  Loss: 0.0418, Test  Accuracy: 91.94%\n",
            "\n",
            "\n",
            "Running epoch 28 of 40...\n",
            "\n"
          ]
        },
        {
          "output_type": "stream",
          "name": "stderr",
          "text": [
            "1350it [00:24, 55.49it/s]\n"
          ]
        },
        {
          "output_type": "stream",
          "name": "stdout",
          "text": [
            "Train Loss: 0.0078, Train Accuracy: 95.69%\n",
            "Test  Loss: 0.0063, Test  Accuracy: 92.52%\n",
            "\n",
            "\n",
            "Running epoch 29 of 40...\n",
            "\n"
          ]
        },
        {
          "output_type": "stream",
          "name": "stderr",
          "text": [
            "1350it [00:24, 54.84it/s]\n"
          ]
        },
        {
          "output_type": "stream",
          "name": "stdout",
          "text": [
            "Train Loss: 0.0075, Train Accuracy: 95.85%\n",
            "Test  Loss: 0.0311, Test  Accuracy: 92.72%\n",
            "\n",
            "\n",
            "Running epoch 30 of 40...\n",
            "\n"
          ]
        },
        {
          "output_type": "stream",
          "name": "stderr",
          "text": [
            "1350it [00:24, 55.39it/s]\n"
          ]
        },
        {
          "output_type": "stream",
          "name": "stdout",
          "text": [
            "Train Loss: 0.0071, Train Accuracy: 95.99%\n",
            "Test  Loss: 0.0321, Test  Accuracy: 92.78%\n",
            "\n",
            "\n",
            "Running epoch 31 of 40...\n",
            "\n"
          ]
        },
        {
          "output_type": "stream",
          "name": "stderr",
          "text": [
            "1350it [00:24, 55.44it/s]\n"
          ]
        },
        {
          "output_type": "stream",
          "name": "stdout",
          "text": [
            "Train Loss: 0.0067, Train Accuracy: 96.36%\n",
            "Test  Loss: 0.0088, Test  Accuracy: 92.65%\n",
            "\n",
            "\n",
            "Running epoch 32 of 40...\n",
            "\n"
          ]
        },
        {
          "output_type": "stream",
          "name": "stderr",
          "text": [
            "1350it [00:24, 55.46it/s]\n"
          ]
        },
        {
          "output_type": "stream",
          "name": "stdout",
          "text": [
            "Train Loss: 0.0063, Train Accuracy: 96.57%\n",
            "Test  Loss: 0.0128, Test  Accuracy: 93.94%\n",
            "\n",
            "\n",
            "Running epoch 33 of 40...\n",
            "\n"
          ]
        },
        {
          "output_type": "stream",
          "name": "stderr",
          "text": [
            "1350it [00:24, 54.78it/s]\n"
          ]
        },
        {
          "output_type": "stream",
          "name": "stdout",
          "text": [
            "Train Loss: 0.0058, Train Accuracy: 96.74%\n",
            "Test  Loss: 0.0040, Test  Accuracy: 93.87%\n",
            "\n",
            "\n",
            "Running epoch 34 of 40...\n",
            "\n"
          ]
        },
        {
          "output_type": "stream",
          "name": "stderr",
          "text": [
            "1350it [00:24, 55.33it/s]\n"
          ]
        },
        {
          "output_type": "stream",
          "name": "stdout",
          "text": [
            "Train Loss: 0.0053, Train Accuracy: 97.00%\n",
            "Test  Loss: 0.0051, Test  Accuracy: 93.35%\n",
            "\n",
            "\n",
            "Running epoch 35 of 40...\n",
            "\n"
          ]
        },
        {
          "output_type": "stream",
          "name": "stderr",
          "text": [
            "1350it [00:24, 55.21it/s]\n"
          ]
        },
        {
          "output_type": "stream",
          "name": "stdout",
          "text": [
            "Train Loss: 0.0052, Train Accuracy: 97.02%\n",
            "Test  Loss: 0.0022, Test  Accuracy: 93.76%\n",
            "\n",
            "\n",
            "Running epoch 36 of 40...\n",
            "\n"
          ]
        },
        {
          "output_type": "stream",
          "name": "stderr",
          "text": [
            "1350it [00:24, 55.05it/s]\n"
          ]
        },
        {
          "output_type": "stream",
          "name": "stdout",
          "text": [
            "Train Loss: 0.0047, Train Accuracy: 97.28%\n",
            "Test  Loss: 0.0019, Test  Accuracy: 93.50%\n",
            "\n",
            "\n",
            "Running epoch 37 of 40...\n",
            "\n"
          ]
        },
        {
          "output_type": "stream",
          "name": "stderr",
          "text": [
            "1350it [00:24, 54.50it/s]\n"
          ]
        },
        {
          "output_type": "stream",
          "name": "stdout",
          "text": [
            "Train Loss: 0.0049, Train Accuracy: 97.21%\n",
            "Test  Loss: 0.0369, Test  Accuracy: 94.11%\n",
            "\n",
            "\n",
            "Running epoch 38 of 40...\n",
            "\n"
          ]
        },
        {
          "output_type": "stream",
          "name": "stderr",
          "text": [
            "1350it [00:24, 54.84it/s]\n"
          ]
        },
        {
          "output_type": "stream",
          "name": "stdout",
          "text": [
            "Train Loss: 0.0039, Train Accuracy: 97.79%\n",
            "Test  Loss: 0.0080, Test  Accuracy: 94.04%\n",
            "\n",
            "\n",
            "Running epoch 39 of 40...\n",
            "\n"
          ]
        },
        {
          "output_type": "stream",
          "name": "stderr",
          "text": [
            "1350it [00:24, 55.04it/s]\n"
          ]
        },
        {
          "output_type": "stream",
          "name": "stdout",
          "text": [
            "Train Loss: 0.0040, Train Accuracy: 97.78%\n",
            "Test  Loss: 0.0002, Test  Accuracy: 94.50%\n",
            "\n",
            "\n",
            "Running epoch 40 of 40...\n",
            "\n"
          ]
        },
        {
          "output_type": "stream",
          "name": "stderr",
          "text": [
            "1350it [00:24, 55.21it/s]\n"
          ]
        },
        {
          "output_type": "stream",
          "name": "stdout",
          "text": [
            "Train Loss: 0.0036, Train Accuracy: 97.89%\n",
            "Test  Loss: 0.0302, Test  Accuracy: 94.20%\n"
          ]
        }
      ],
      "source": [
        "num_epochs = NUM_EPOCHS\n",
        "train_loss = []\n",
        "test_loss = []\n",
        "train_accuracy = []\n",
        "test_accuracy = []\n",
        "for epoch in range(1,num_epochs+1): # If I have spare time I will convert this into a function, but I doubt it.\n",
        "    print(f'\\n\\nRunning epoch {epoch} of {NUM_EPOCHS}...\\n')\n",
        "    total_correct = 0\n",
        "    total_loss = 0\n",
        "    total_images = 0\n",
        "    total_val_loss = 0\n",
        "    model.train().to(device)\n",
        "    for i, (data, target) in tqdm(enumerate(train_loader)):\n",
        "\n",
        "        images = data.to(device)\n",
        "        labels = target.to(device)\n",
        "\n",
        "        # Forward propagation\n",
        "        outputs = model(images)\n",
        "        loss = criterion(outputs, labels.to(device))  \n",
        "        optimizer.zero_grad()\n",
        "\n",
        "        # Backward prop\n",
        "        loss.backward()\n",
        "\n",
        "        # Updating gradients\n",
        "        optimizer.step()\n",
        "\n",
        "        # Total number of labels\n",
        "        total_images+= labels.size(0)\n",
        "\n",
        "        # Obtaining predictions from max value\n",
        "        _, predicted = torch.max(outputs.detach(), 1)\n",
        "\n",
        "        # Calculate the number of correct answers\n",
        "        correct = (predicted == labels).sum().item()\n",
        "\n",
        "        total_correct+=correct\n",
        "        total_loss+=loss.item()\n",
        "\n",
        "    train_loss_per_epoch = total_loss / total_images\n",
        "    train_acc_per_epoch =  (total_correct / total_images) * 100   \n",
        "\n",
        "    train_loss.append(train_loss_per_epoch)\n",
        "    train_accuracy.append(train_acc_per_epoch)\n",
        "\n",
        "    scheduler.step()\n",
        "    print('Train Loss: {:.4f}, Train Accuracy: {:.2f}%'.format(train_loss_per_epoch,train_acc_per_epoch))\n",
        "    \n",
        "    # Testing the model\n",
        "    model.eval().to(device)\n",
        "\n",
        "    with torch.no_grad():\n",
        "        correct = 0\n",
        "        total = 0\n",
        "        total_losss =0\n",
        "\n",
        "        for data, target in test_loader:\n",
        "\n",
        "            images = data.to(device)\n",
        "            labels = target.to(device)\n",
        "            outputs = model(images).to(device)\n",
        "\n",
        "            _, predicted = torch.max(outputs.detach(), 1)\n",
        "            total += labels.size(0)\n",
        "            correct += (predicted == labels).sum().item()\n",
        "\n",
        "            total_losss += loss.item()\n",
        "\n",
        "        test_accuracy_per_epoch = correct / total * 100 #Test acc per epoch\n",
        "        test_loss_per_epoch = total_losss / total  \n",
        "        test_accuracy.append(test_accuracy_per_epoch)\n",
        "        test_loss.append(test_loss_per_epoch)\n",
        "        print('Test  Loss: {:.4f}, Test  Accuracy: {:.2f}%'.format(test_loss_per_epoch, test_accuracy_per_epoch))"
      ]
    },
    {
      "cell_type": "code",
      "source": [
        "epochs = np.arange(1,NUM_EPOCHS+1,1)\n",
        "#Plot and save\n",
        "plt.figure(figsize=(12, 8), num=1)\n",
        "plt.clf()\n",
        "plt.plot(epochs, train_loss, label='Train')\n",
        "plt.plot(epochs, test_loss, label='Test')\n",
        "plt.legend()\n",
        "plt.grid()\n",
        "plt.title('Cross entropy loss')\n",
        "plt.xlabel('Epoch')\n",
        "plt.ylabel('Loss')\n",
        "plt.savefig('outputs/01-loss.pdf')\n",
        "\n",
        "plt.figure(figsize=(12, 8), num=2)\n",
        "plt.clf()\n",
        "plt.plot(epochs, train_accuracy, label='Train')\n",
        "plt.plot(epochs, test_accuracy, label='Test')\n",
        "plt.legend()\n",
        "plt.grid()\n",
        "plt.title('Accuracy')\n",
        "plt.xlabel('Epoch')\n",
        "plt.ylabel('Accuracy')\n",
        "plt.savefig('outputs/02-accuracy.pdf')"
      ],
      "metadata": {
        "colab": {
          "base_uri": "https://localhost:8080/",
          "height": 1000
        },
        "id": "8xI9Fj-8hEJM",
        "outputId": "4c619e7d-d432-47fc-cc04-eb8646aa327e"
      },
      "id": "8xI9Fj-8hEJM",
      "execution_count": null,
      "outputs": [
        {
          "output_type": "display_data",
          "data": {
            "text/plain": [
              "<Figure size 864x576 with 1 Axes>"
            ],
            "image/png": "[encoded data removed]"
          },
          "metadata": {
            "needs_background": "light"
          }
        },
        {
          "output_type": "display_data",
          "data": {
            "text/plain": [
              "<Figure size 864x576 with 1 Axes>"
            ],
            "image/png": "[encoded data removed]"
          },
          "metadata": {
            "needs_background": "light"
          }
        }
      ]
    },
    {
      "cell_type": "code",
      "source": [
        "print(f'Final train loss: {train_loss[-1]}')\n",
        "print(f'Final test loss: {test_loss[-1]}')\n",
        "print(f'Final train accuracy: {train_accuracy[-1]}')\n",
        "print(f'Final test accuracy: {test_accuracy[-1]}')"
      ],
      "metadata": {
        "colab": {
          "base_uri": "https://localhost:8080/"
        },
        "id": "3cbzx9EQTYW9",
        "outputId": "7dfd6798-6fa6-47ba-dc58-534d6165a140"
      },
      "id": "3cbzx9EQTYW9",
      "execution_count": null,
      "outputs": [
        {
          "output_type": "stream",
          "name": "stdout",
          "text": [
            "Final train loss: 0.0036408420948326374\n",
            "Final test loss: 0.03022461947467592\n",
            "Final train accuracy: 97.88888888888889\n",
            "Final test accuracy: 94.2037037037037\n"
          ]
        }
      ]
    },
    {
      "cell_type": "code",
      "source": [],
      "metadata": {
        "id": "EFZXrP8kmJD3"
      },
      "id": "EFZXrP8kmJD3",
      "execution_count": null,
      "outputs": []
    }
  ],
  "metadata": {
    "kernelspec": {
      "display_name": "Python 3 (ipykernel)",
      "language": "python",
      "name": "python3"
    },
    "language_info": {
      "codemirror_mode": {
        "name": "ipython",
        "version": 3
      },
      "file_extension": ".py",
      "mimetype": "text/x-python",
      "name": "python",
      "nbconvert_exporter": "python",
      "pygments_lexer": "ipython3",
      "version": "3.9.7"
    },
    "colab": {
      "name": "coding_assignment.ipynb",
      "provenance": [],
      "collapsed_sections": []
    },
    "accelerator": "GPU",
    "gpuClass": "standard",
    "widgets": {
      "application/vnd.jupyter.widget-state+json": {
        "7cc3c353544f4fe7949ee9bb6a9f4757": {
          "model_module": "@jupyter-widgets/controls",
          "model_name": "HBoxModel",
          "model_module_version": "1.5.0",
          "state": {
            "_dom_classes": [],
            "_model_module": "@jupyter-widgets/controls",
            "_model_module_version": "1.5.0",
            "_model_name": "HBoxModel",
            "_view_count": null,
            "_view_module": "@jupyter-widgets/controls",
            "_view_module_version": "1.5.0",
            "_view_name": "HBoxView",
            "box_style": "",
            "children": [
              "IPY_MODEL_d53fee16086847499ef41e786d9094e4",
              "IPY_MODEL_fa10a69900cd472fb29c3835ea61e21a",
              "IPY_MODEL_c824913313e248eda260f81463fa6267"
            ],
            "layout": "IPY_MODEL_3db39cabe0f74469a2c22d22c99d991e"
          }
        },
        "d53fee16086847499ef41e786d9094e4": {
          "model_module": "@jupyter-widgets/controls",
          "model_name": "HTMLModel",
          "model_module_version": "1.5.0",
          "state": {
            "_dom_classes": [],
            "_model_module": "@jupyter-widgets/controls",
            "_model_module_version": "1.5.0",
            "_model_name": "HTMLModel",
            "_view_count": null,
            "_view_module": "@jupyter-widgets/controls",
            "_view_module_version": "1.5.0",
            "_view_name": "HTMLView",
            "description": "",
            "description_tooltip": null,
            "layout": "IPY_MODEL_dd49b80df0ba425b8b91e65af074c8e1",
            "placeholder": "​",
            "style": "IPY_MODEL_186bcafe60bb4162a51214311ea8710b",
            "value": "100%"
          }
        },
        "fa10a69900cd472fb29c3835ea61e21a": {
          "model_module": "@jupyter-widgets/controls",
          "model_name": "FloatProgressModel",
          "model_module_version": "1.5.0",
          "state": {
            "_dom_classes": [],
            "_model_module": "@jupyter-widgets/controls",
            "_model_module_version": "1.5.0",
            "_model_name": "FloatProgressModel",
            "_view_count": null,
            "_view_module": "@jupyter-widgets/controls",
            "_view_module_version": "1.5.0",
            "_view_name": "ProgressView",
            "bar_style": "success",
            "description": "",
            "description_tooltip": null,
            "layout": "IPY_MODEL_367557f1d4624833913420c5f4750aea",
            "max": 94280567,
            "min": 0,
            "orientation": "horizontal",
            "style": "IPY_MODEL_4965e2d998f74d74b73740572694ad0c",
            "value": 94280567
          }
        },
        "c824913313e248eda260f81463fa6267": {
          "model_module": "@jupyter-widgets/controls",
          "model_name": "HTMLModel",
          "model_module_version": "1.5.0",
          "state": {
            "_dom_classes": [],
            "_model_module": "@jupyter-widgets/controls",
            "_model_module_version": "1.5.0",
            "_model_name": "HTMLModel",
            "_view_count": null,
            "_view_module": "@jupyter-widgets/controls",
            "_view_module_version": "1.5.0",
            "_view_name": "HTMLView",
            "description": "",
            "description_tooltip": null,
            "layout": "IPY_MODEL_07784ee5678e443c9885b241b6db8f20",
            "placeholder": "​",
            "style": "IPY_MODEL_13e82adf637243e1b37cf5116b71a344",
            "value": " 94280567/94280567 [00:04&lt;00:00, 25802941.71it/s]"
          }
        },
        "3db39cabe0f74469a2c22d22c99d991e": {
          "model_module": "@jupyter-widgets/base",
          "model_name": "LayoutModel",
          "model_module_version": "1.2.0",
          "state": {
            "_model_module": "@jupyter-widgets/base",
            "_model_module_version": "1.2.0",
            "_model_name": "LayoutModel",
            "_view_count": null,
            "_view_module": "@jupyter-widgets/base",
            "_view_module_version": "1.2.0",
            "_view_name": "LayoutView",
            "align_content": null,
            "align_items": null,
            "align_self": null,
            "border": null,
            "bottom": null,
            "display": null,
            "flex": null,
            "flex_flow": null,
            "grid_area": null,
            "grid_auto_columns": null,
            "grid_auto_flow": null,
            "grid_auto_rows": null,
            "grid_column": null,
            "grid_gap": null,
            "grid_row": null,
            "grid_template_areas": null,
            "grid_template_columns": null,
            "grid_template_rows": null,
            "height": null,
            "justify_content": null,
            "justify_items": null,
            "left": null,
            "margin": null,
            "max_height": null,
            "max_width": null,
            "min_height": null,
            "min_width": null,
            "object_fit": null,
            "object_position": null,
            "order": null,
            "overflow": null,
            "overflow_x": null,
            "overflow_y": null,
            "padding": null,
            "right": null,
            "top": null,
            "visibility": null,
            "width": null
          }
        },
        "dd49b80df0ba425b8b91e65af074c8e1": {
          "model_module": "@jupyter-widgets/base",
          "model_name": "LayoutModel",
          "model_module_version": "1.2.0",
          "state": {
            "_model_module": "@jupyter-widgets/base",
            "_model_module_version": "1.2.0",
            "_model_name": "LayoutModel",
            "_view_count": null,
            "_view_module": "@jupyter-widgets/base",
            "_view_module_version": "1.2.0",
            "_view_name": "LayoutView",
            "align_content": null,
            "align_items": null,
            "align_self": null,
            "border": null,
            "bottom": null,
            "display": null,
            "flex": null,
            "flex_flow": null,
            "grid_area": null,
            "grid_auto_columns": null,
            "grid_auto_flow": null,
            "grid_auto_rows": null,
            "grid_column": null,
            "grid_gap": null,
            "grid_row": null,
            "grid_template_areas": null,
            "grid_template_columns": null,
            "grid_template_rows": null,
            "height": null,
            "justify_content": null,
            "justify_items": null,
            "left": null,
            "margin": null,
            "max_height": null,
            "max_width": null,
            "min_height": null,
            "min_width": null,
            "object_fit": null,
            "object_position": null,
            "order": null,
            "overflow": null,
            "overflow_x": null,
            "overflow_y": null,
            "padding": null,
            "right": null,
            "top": null,
            "visibility": null,
            "width": null
          }
        },
        "186bcafe60bb4162a51214311ea8710b": {
          "model_module": "@jupyter-widgets/controls",
          "model_name": "DescriptionStyleModel",
          "model_module_version": "1.5.0",
          "state": {
            "_model_module": "@jupyter-widgets/controls",
            "_model_module_version": "1.5.0",
            "_model_name": "DescriptionStyleModel",
            "_view_count": null,
            "_view_module": "@jupyter-widgets/base",
            "_view_module_version": "1.2.0",
            "_view_name": "StyleView",
            "description_width": ""
          }
        },
        "367557f1d4624833913420c5f4750aea": {
          "model_module": "@jupyter-widgets/base",
          "model_name": "LayoutModel",
          "model_module_version": "1.2.0",
          "state": {
            "_model_module": "@jupyter-widgets/base",
            "_model_module_version": "1.2.0",
            "_model_name": "LayoutModel",
            "_view_count": null,
            "_view_module": "@jupyter-widgets/base",
            "_view_module_version": "1.2.0",
            "_view_name": "LayoutView",
            "align_content": null,
            "align_items": null,
            "align_self": null,
            "border": null,
            "bottom": null,
            "display": null,
            "flex": null,
            "flex_flow": null,
            "grid_area": null,
            "grid_auto_columns": null,
            "grid_auto_flow": null,
            "grid_auto_rows": null,
            "grid_column": null,
            "grid_gap": null,
            "grid_row": null,
            "grid_template_areas": null,
            "grid_template_columns": null,
            "grid_template_rows": null,
            "height": null,
            "justify_content": null,
            "justify_items": null,
            "left": null,
            "margin": null,
            "max_height": null,
            "max_width": null,
            "min_height": null,
            "min_width": null,
            "object_fit": null,
            "object_position": null,
            "order": null,
            "overflow": null,
            "overflow_x": null,
            "overflow_y": null,
            "padding": null,
            "right": null,
            "top": null,
            "visibility": null,
            "width": null
          }
        },
        "4965e2d998f74d74b73740572694ad0c": {
          "model_module": "@jupyter-widgets/controls",
          "model_name": "ProgressStyleModel",
          "model_module_version": "1.5.0",
          "state": {
            "_model_module": "@jupyter-widgets/controls",
            "_model_module_version": "1.5.0",
            "_model_name": "ProgressStyleModel",
            "_view_count": null,
            "_view_module": "@jupyter-widgets/base",
            "_view_module_version": "1.2.0",
            "_view_name": "StyleView",
            "bar_color": null,
            "description_width": ""
          }
        },
        "07784ee5678e443c9885b241b6db8f20": {
          "model_module": "@jupyter-widgets/base",
          "model_name": "LayoutModel",
          "model_module_version": "1.2.0",
          "state": {
            "_model_module": "@jupyter-widgets/base",
            "_model_module_version": "1.2.0",
            "_model_name": "LayoutModel",
            "_view_count": null,
            "_view_module": "@jupyter-widgets/base",
            "_view_module_version": "1.2.0",
            "_view_name": "LayoutView",
            "align_content": null,
            "align_items": null,
            "align_self": null,
            "border": null,
            "bottom": null,
            "display": null,
            "flex": null,
            "flex_flow": null,
            "grid_area": null,
            "grid_auto_columns": null,
            "grid_auto_flow": null,
            "grid_auto_rows": null,
            "grid_column": null,
            "grid_gap": null,
            "grid_row": null,
            "grid_template_areas": null,
            "grid_template_columns": null,
            "grid_template_rows": null,
            "height": null,
            "justify_content": null,
            "justify_items": null,
            "left": null,
            "margin": null,
            "max_height": null,
            "max_width": null,
            "min_height": null,
            "min_width": null,
            "object_fit": null,
            "object_position": null,
            "order": null,
            "overflow": null,
            "overflow_x": null,
            "overflow_y": null,
            "padding": null,
            "right": null,
            "top": null,
            "visibility": null,
            "width": null
          }
        },
        "13e82adf637243e1b37cf5116b71a344": {
          "model_module": "@jupyter-widgets/controls",
          "model_name": "DescriptionStyleModel",
          "model_module_version": "1.5.0",
          "state": {
            "_model_module": "@jupyter-widgets/controls",
            "_model_module_version": "1.5.0",
            "_model_name": "DescriptionStyleModel",
            "_view_count": null,
            "_view_module": "@jupyter-widgets/base",
            "_view_module_version": "1.2.0",
            "_view_name": "StyleView",
            "description_width": ""
          }
        }
      }
    }
  },
  "nbformat": 4,
  "nbformat_minor": 5
}